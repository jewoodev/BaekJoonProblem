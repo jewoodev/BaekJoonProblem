{
 "cells": [
  {
   "cell_type": "markdown",
   "id": "1e656ac6",
   "metadata": {},
   "source": [
    "## 첫 접근방식"
   ]
  },
  {
   "cell_type": "code",
   "execution_count": 2,
   "id": "ead13330",
   "metadata": {},
   "outputs": [
    {
     "name": "stdout",
     "output_type": "stream",
     "text": [
      "24 18\n",
      "6 \n",
      " 72\n"
     ]
    }
   ],
   "source": [
    "biggest, smallest = map(int, input().split())\n",
    "b_list = []\n",
    "s_list = []\n",
    "denominator = []\n",
    "for i in range(1, biggest+1):\n",
    "    if biggest % i == 0:\n",
    "        b_list.append(i)\n",
    "for i in range(1, smallest+1):\n",
    "    if smallest % i == 0:\n",
    "        s_list.append(i)\n",
    "for i in range(len(s_list)):\n",
    "    if s_list[i] in b_list:\n",
    "        denominator.append(s_list[i]) \n",
    "denominator.sort()\n",
    "b_deno = denominator[-1]\n",
    "for i in range(len(denominator)):\n",
    "    bmul = denominator[0]\n",
    "    bmul *= denominator[i]\n",
    "bmulti = bmul * (biggest // bmul) * (smallest // bmul)\n",
    "print(b_deno)\n",
    "print(bmulti)                                   # 왜 답이 안나오지..? 어?! 나왔다"
   ]
  },
  {
   "cell_type": "code",
   "execution_count": null,
   "id": "47201cd1",
   "metadata": {},
   "outputs": [],
   "source": [
    "# 다른 풀이 - 유클리드 호제법\n",
    "a, b = map(int, input().split())\n",
    "\n",
    "def gcd(a, b):\n",
    "    while b > 0:\n",
    "        a, b = b, a % b\n",
    "    return a\n",
    "\n",
    "def lcm(a, b):\n",
    "    return a * b // gcd(a, b)\n",
    "\n",
    "print(gcd(a, b))\n",
    "print(lcm(a, b))"
   ]
  },
  {
   "attachments": {},
   "cell_type": "markdown",
   "id": "fb68438d",
   "metadata": {},
   "source": [
    "# 유클리드(Euclidean algorithm)\n",
    "두 양의 정수, 혹은 두 다항식의 최대공약수를 구하는 방법이다.\n",
    "## 유클리드 호제법\n",
    "호제법은 두 수가 있을 때 서로 상대방 수로 나누어 결국 원하는 수를 얻는 알고리즘을   칭한다. \n",
    "2개의 자연수 a, b에 대해 a를 b로 나눈 나머지를 r이라고 하면(단, a>b),  \n",
    "a와 b의 최대공약수는 b와 r의 최대공약수와 같다.  \n",
    "이 성질에 따라, b를 r로 나눈 나머지 r'를 구하고, 다시 r을 r'로 나눈 나머지를 구하는 과정을 반복해서 나머지가 0이 되었을 때 나누는 수가 a와 b의 최대공약수이다.\n",
    "```\n",
    "def gcd(a, b):\n",
    "    while b > 0:\n",
    "        a, b = b, a % b\n",
    "    return a\n",
    "```\n",
    "최소공배수는 a, b의 곱을 a, b의 최대공약수로 나누면 구해진다.\n",
    "(최소공배수 x 최대 공약수) = gcd^2 * a *b [단, a와 b는 정수, 서로소]\n",
    "*서로소 : 여러 개의 수들 사이에 1 이외의 공약수가 없음을 이르는 말."
   ]
  },
  {
   "attachments": {},
   "cell_type": "markdown",
   "id": "30f5c170",
   "metadata": {},
   "source": [
    "# math 모듈\n",
    "파이썬 math 모듈 속에 이미 최대공약수와 최소공배수를 구하는 함수가 내장되어 있다..\n",
    "참고로 lcm()함수는 파이썬 3.9버전 이상부터 사용 가능하다."
   ]
  },
  {
   "cell_type": "code",
   "execution_count": null,
   "id": "8a340188",
   "metadata": {},
   "outputs": [],
   "source": [
    "import math\n",
    "\n",
    "a, b = map(int, input().split())\n",
    "\n",
    "print(math.gcd(a, b))\n",
    "print(math.lcm(a, b))"
   ]
  }
 ],
 "metadata": {
  "kernelspec": {
   "display_name": "Python 3 (ipykernel)",
   "language": "python",
   "name": "python3"
  },
  "language_info": {
   "codemirror_mode": {
    "name": "ipython",
    "version": 3
   },
   "file_extension": ".py",
   "mimetype": "text/x-python",
   "name": "python",
   "nbconvert_exporter": "python",
   "pygments_lexer": "ipython3",
   "version": "3.9.13"
  }
 },
 "nbformat": 4,
 "nbformat_minor": 5
}
